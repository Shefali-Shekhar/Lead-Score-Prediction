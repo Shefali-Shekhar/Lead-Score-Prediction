{
 "cells": [
  {
   "cell_type": "markdown",
   "id": "79c75b3f",
   "metadata": {},
   "source": [
    "# Importing Prepared Dataset"
   ]
  },
  {
   "cell_type": "code",
   "execution_count": 36,
   "id": "c8d8fd69",
   "metadata": {},
   "outputs": [],
   "source": [
    "import pandas as pd"
   ]
  },
  {
   "cell_type": "code",
   "execution_count": 37,
   "id": "9b7fd4fd",
   "metadata": {},
   "outputs": [
    {
     "data": {
      "text/html": [
       "<div>\n",
       "<style scoped>\n",
       "    .dataframe tbody tr th:only-of-type {\n",
       "        vertical-align: middle;\n",
       "    }\n",
       "\n",
       "    .dataframe tbody tr th {\n",
       "        vertical-align: top;\n",
       "    }\n",
       "\n",
       "    .dataframe thead th {\n",
       "        text-align: right;\n",
       "    }\n",
       "</style>\n",
       "<table border=\"1\" class=\"dataframe\">\n",
       "  <thead>\n",
       "    <tr style=\"text-align: right;\">\n",
       "      <th></th>\n",
       "      <th>Field_1</th>\n",
       "      <th>lead_id</th>\n",
       "      <th>status</th>\n",
       "      <th>lost_reason</th>\n",
       "      <th>budget</th>\n",
       "      <th>lease</th>\n",
       "      <th>movein</th>\n",
       "      <th>room_type</th>\n",
       "      <th>new_lease</th>\n",
       "      <th>Test</th>\n",
       "    </tr>\n",
       "  </thead>\n",
       "  <tbody>\n",
       "    <tr>\n",
       "      <th>0</th>\n",
       "      <td>17754</td>\n",
       "      <td>ad466d1c65f66b7f6750218d1d2cebda80944ccb3db17c...</td>\n",
       "      <td>LOST</td>\n",
       "      <td>Not interested</td>\n",
       "      <td>Â£181  Â£240 Per Week</td>\n",
       "      <td>Full Year Course Stay 40  44 weeks</td>\n",
       "      <td>310822.0</td>\n",
       "      <td>Entire Place</td>\n",
       "      <td>42</td>\n",
       "      <td>240.0</td>\n",
       "    </tr>\n",
       "    <tr>\n",
       "      <th>1</th>\n",
       "      <td>38335</td>\n",
       "      <td>97ba75a60f65ac390b60a79d300d7628a90e6a3759fcad...</td>\n",
       "      <td>LOST</td>\n",
       "      <td>Low availability</td>\n",
       "      <td>Â£60  Â£120 Per week</td>\n",
       "      <td>Semester Stay 20  24 weeks</td>\n",
       "      <td>130922.0</td>\n",
       "      <td>Ensuite</td>\n",
       "      <td>24</td>\n",
       "      <td>120.0</td>\n",
       "    </tr>\n",
       "    <tr>\n",
       "      <th>2</th>\n",
       "      <td>43761</td>\n",
       "      <td>90ab296bd29fdd158966136bb7ebbad59b477370bf9342...</td>\n",
       "      <td>LOST</td>\n",
       "      <td>Not responding</td>\n",
       "      <td>150week</td>\n",
       "      <td>51 week</td>\n",
       "      <td>300922.0</td>\n",
       "      <td>Ensuite</td>\n",
       "      <td>51</td>\n",
       "      <td>18750.0</td>\n",
       "    </tr>\n",
       "    <tr>\n",
       "      <th>3</th>\n",
       "      <td>6659</td>\n",
       "      <td>adef163151cf4ad83253e7b881a4a22ff403c993e62a0a...</td>\n",
       "      <td>LOST</td>\n",
       "      <td>Low availability</td>\n",
       "      <td>217</td>\n",
       "      <td>43</td>\n",
       "      <td>NaN</td>\n",
       "      <td>NaN</td>\n",
       "      <td>43</td>\n",
       "      <td>217.0</td>\n",
       "    </tr>\n",
       "    <tr>\n",
       "      <th>4</th>\n",
       "      <td>19861</td>\n",
       "      <td>938ab1b664d191f5b6a1e59ce593b2dead649bea0bdd06...</td>\n",
       "      <td>LOST</td>\n",
       "      <td>Not interested</td>\n",
       "      <td>Â£60  Â£120 Per week</td>\n",
       "      <td>Full Year Course Stay 40  44 weeks</td>\n",
       "      <td>300922.0</td>\n",
       "      <td>Studio</td>\n",
       "      <td>42</td>\n",
       "      <td>120.0</td>\n",
       "    </tr>\n",
       "  </tbody>\n",
       "</table>\n",
       "</div>"
      ],
      "text/plain": [
       "   Field_1                                            lead_id status  \\\n",
       "0    17754  ad466d1c65f66b7f6750218d1d2cebda80944ccb3db17c...   LOST   \n",
       "1    38335  97ba75a60f65ac390b60a79d300d7628a90e6a3759fcad...   LOST   \n",
       "2    43761  90ab296bd29fdd158966136bb7ebbad59b477370bf9342...   LOST   \n",
       "3     6659  adef163151cf4ad83253e7b881a4a22ff403c993e62a0a...   LOST   \n",
       "4    19861  938ab1b664d191f5b6a1e59ce593b2dead649bea0bdd06...   LOST   \n",
       "\n",
       "        lost_reason                 budget  \\\n",
       "0    Not interested  Â£181  Â£240 Per Week   \n",
       "1  Low availability   Â£60  Â£120 Per week   \n",
       "2    Not responding                150week   \n",
       "3  Low availability                    217   \n",
       "4    Not interested   Â£60  Â£120 Per week   \n",
       "\n",
       "                                lease    movein     room_type  new_lease  \\\n",
       "0  Full Year Course Stay 40  44 weeks  310822.0  Entire Place         42   \n",
       "1          Semester Stay 20  24 weeks  130922.0       Ensuite         24   \n",
       "2                             51 week  300922.0       Ensuite         51   \n",
       "3                                  43       NaN           NaN         43   \n",
       "4  Full Year Course Stay 40  44 weeks  300922.0        Studio         42   \n",
       "\n",
       "      Test  \n",
       "0    240.0  \n",
       "1    120.0  \n",
       "2  18750.0  \n",
       "3    217.0  \n",
       "4    120.0  "
      ]
     },
     "execution_count": 37,
     "metadata": {},
     "output_type": "execute_result"
    }
   ],
   "source": [
    "df = pd.read_excel(\"CleanedData.xlsx\")\n",
    "df.head()"
   ]
  },
  {
   "cell_type": "markdown",
   "id": "d7d47ec9",
   "metadata": {},
   "source": [
    "# Exploratory Data Analysis"
   ]
  },
  {
   "cell_type": "code",
   "execution_count": 38,
   "id": "6122d524",
   "metadata": {},
   "outputs": [
    {
     "data": {
      "text/plain": [
       "(33122, 10)"
      ]
     },
     "execution_count": 38,
     "metadata": {},
     "output_type": "execute_result"
    }
   ],
   "source": [
    "# Shape of the dataset\n",
    "df.shape"
   ]
  },
  {
   "cell_type": "code",
   "execution_count": 39,
   "id": "03f0c5af",
   "metadata": {},
   "outputs": [
    {
     "data": {
      "text/html": [
       "<div>\n",
       "<style scoped>\n",
       "    .dataframe tbody tr th:only-of-type {\n",
       "        vertical-align: middle;\n",
       "    }\n",
       "\n",
       "    .dataframe tbody tr th {\n",
       "        vertical-align: top;\n",
       "    }\n",
       "\n",
       "    .dataframe thead th {\n",
       "        text-align: right;\n",
       "    }\n",
       "</style>\n",
       "<table border=\"1\" class=\"dataframe\">\n",
       "  <thead>\n",
       "    <tr style=\"text-align: right;\">\n",
       "      <th></th>\n",
       "      <th>Field_1</th>\n",
       "      <th>lead_id</th>\n",
       "      <th>status</th>\n",
       "      <th>lost_reason</th>\n",
       "      <th>room_type</th>\n",
       "      <th>new_lease</th>\n",
       "      <th>Test</th>\n",
       "    </tr>\n",
       "  </thead>\n",
       "  <tbody>\n",
       "    <tr>\n",
       "      <th>0</th>\n",
       "      <td>17754</td>\n",
       "      <td>ad466d1c65f66b7f6750218d1d2cebda80944ccb3db17c...</td>\n",
       "      <td>LOST</td>\n",
       "      <td>Not interested</td>\n",
       "      <td>Entire Place</td>\n",
       "      <td>42</td>\n",
       "      <td>240.0</td>\n",
       "    </tr>\n",
       "    <tr>\n",
       "      <th>1</th>\n",
       "      <td>38335</td>\n",
       "      <td>97ba75a60f65ac390b60a79d300d7628a90e6a3759fcad...</td>\n",
       "      <td>LOST</td>\n",
       "      <td>Low availability</td>\n",
       "      <td>Ensuite</td>\n",
       "      <td>24</td>\n",
       "      <td>120.0</td>\n",
       "    </tr>\n",
       "    <tr>\n",
       "      <th>2</th>\n",
       "      <td>43761</td>\n",
       "      <td>90ab296bd29fdd158966136bb7ebbad59b477370bf9342...</td>\n",
       "      <td>LOST</td>\n",
       "      <td>Not responding</td>\n",
       "      <td>Ensuite</td>\n",
       "      <td>51</td>\n",
       "      <td>18750.0</td>\n",
       "    </tr>\n",
       "    <tr>\n",
       "      <th>3</th>\n",
       "      <td>6659</td>\n",
       "      <td>adef163151cf4ad83253e7b881a4a22ff403c993e62a0a...</td>\n",
       "      <td>LOST</td>\n",
       "      <td>Low availability</td>\n",
       "      <td>NaN</td>\n",
       "      <td>43</td>\n",
       "      <td>217.0</td>\n",
       "    </tr>\n",
       "    <tr>\n",
       "      <th>4</th>\n",
       "      <td>19861</td>\n",
       "      <td>938ab1b664d191f5b6a1e59ce593b2dead649bea0bdd06...</td>\n",
       "      <td>LOST</td>\n",
       "      <td>Not interested</td>\n",
       "      <td>Studio</td>\n",
       "      <td>42</td>\n",
       "      <td>120.0</td>\n",
       "    </tr>\n",
       "  </tbody>\n",
       "</table>\n",
       "</div>"
      ],
      "text/plain": [
       "   Field_1                                            lead_id status  \\\n",
       "0    17754  ad466d1c65f66b7f6750218d1d2cebda80944ccb3db17c...   LOST   \n",
       "1    38335  97ba75a60f65ac390b60a79d300d7628a90e6a3759fcad...   LOST   \n",
       "2    43761  90ab296bd29fdd158966136bb7ebbad59b477370bf9342...   LOST   \n",
       "3     6659  adef163151cf4ad83253e7b881a4a22ff403c993e62a0a...   LOST   \n",
       "4    19861  938ab1b664d191f5b6a1e59ce593b2dead649bea0bdd06...   LOST   \n",
       "\n",
       "        lost_reason     room_type  new_lease     Test  \n",
       "0    Not interested  Entire Place         42    240.0  \n",
       "1  Low availability       Ensuite         24    120.0  \n",
       "2    Not responding       Ensuite         51  18750.0  \n",
       "3  Low availability           NaN         43    217.0  \n",
       "4    Not interested        Studio         42    120.0  "
      ]
     },
     "execution_count": 39,
     "metadata": {},
     "output_type": "execute_result"
    }
   ],
   "source": [
    "# Removing unwanted columns\n",
    "df = df.drop(['budget','lease','movein'],axis=1)\n",
    "df.head()"
   ]
  },
  {
   "cell_type": "code",
   "execution_count": 40,
   "id": "475bb649",
   "metadata": {},
   "outputs": [
    {
     "data": {
      "text/plain": [
       "Field_1            0\n",
       "lead_id            0\n",
       "status             0\n",
       "lost_reason     2694\n",
       "room_type      11170\n",
       "new_lease          0\n",
       "Test             139\n",
       "dtype: int64"
      ]
     },
     "execution_count": 40,
     "metadata": {},
     "output_type": "execute_result"
    }
   ],
   "source": [
    "# Identifying null values\n",
    "df.isnull().sum()"
   ]
  },
  {
   "cell_type": "code",
   "execution_count": 41,
   "id": "ed6d45f2",
   "metadata": {},
   "outputs": [
    {
     "data": {
      "text/plain": [
       "Field_1            0\n",
       "lead_id            0\n",
       "status             0\n",
       "lost_reason     2689\n",
       "room_type      11031\n",
       "new_lease          0\n",
       "Test               0\n",
       "dtype: int64"
      ]
     },
     "execution_count": 41,
     "metadata": {},
     "output_type": "execute_result"
    }
   ],
   "source": [
    "# Handling Missing Values\n",
    "df = df.dropna(subset = ['Test'])\n",
    "df.isnull().sum()"
   ]
  },
  {
   "cell_type": "code",
   "execution_count": 42,
   "id": "95bed9af",
   "metadata": {},
   "outputs": [
    {
     "data": {
      "text/plain": [
       "Field_1        0\n",
       "lead_id        0\n",
       "status         0\n",
       "lost_reason    0\n",
       "room_type      0\n",
       "new_lease      0\n",
       "Test           0\n",
       "dtype: int64"
      ]
     },
     "execution_count": 42,
     "metadata": {},
     "output_type": "execute_result"
    }
   ],
   "source": [
    "df['room_type'] = df['room_type'].fillna('Other')\n",
    "df['lost_reason'] = df['lost_reason'].fillna('Other')\n",
    "df.isnull().sum()"
   ]
  },
  {
   "cell_type": "code",
   "execution_count": 43,
   "id": "c239a83d",
   "metadata": {},
   "outputs": [
    {
     "data": {
      "text/html": [
       "<div>\n",
       "<style scoped>\n",
       "    .dataframe tbody tr th:only-of-type {\n",
       "        vertical-align: middle;\n",
       "    }\n",
       "\n",
       "    .dataframe tbody tr th {\n",
       "        vertical-align: top;\n",
       "    }\n",
       "\n",
       "    .dataframe thead th {\n",
       "        text-align: right;\n",
       "    }\n",
       "</style>\n",
       "<table border=\"1\" class=\"dataframe\">\n",
       "  <thead>\n",
       "    <tr style=\"text-align: right;\">\n",
       "      <th></th>\n",
       "      <th>status</th>\n",
       "      <th>lost_reason</th>\n",
       "      <th>room_type</th>\n",
       "      <th>new_lease</th>\n",
       "      <th>Test</th>\n",
       "    </tr>\n",
       "  </thead>\n",
       "  <tbody>\n",
       "    <tr>\n",
       "      <th>0</th>\n",
       "      <td>LOST</td>\n",
       "      <td>Not interested</td>\n",
       "      <td>Entire Place</td>\n",
       "      <td>42</td>\n",
       "      <td>240.0</td>\n",
       "    </tr>\n",
       "    <tr>\n",
       "      <th>1</th>\n",
       "      <td>LOST</td>\n",
       "      <td>Low availability</td>\n",
       "      <td>Ensuite</td>\n",
       "      <td>24</td>\n",
       "      <td>120.0</td>\n",
       "    </tr>\n",
       "    <tr>\n",
       "      <th>2</th>\n",
       "      <td>LOST</td>\n",
       "      <td>Not responding</td>\n",
       "      <td>Ensuite</td>\n",
       "      <td>51</td>\n",
       "      <td>18750.0</td>\n",
       "    </tr>\n",
       "    <tr>\n",
       "      <th>3</th>\n",
       "      <td>LOST</td>\n",
       "      <td>Low availability</td>\n",
       "      <td>Other</td>\n",
       "      <td>43</td>\n",
       "      <td>217.0</td>\n",
       "    </tr>\n",
       "    <tr>\n",
       "      <th>4</th>\n",
       "      <td>LOST</td>\n",
       "      <td>Not interested</td>\n",
       "      <td>Studio</td>\n",
       "      <td>42</td>\n",
       "      <td>120.0</td>\n",
       "    </tr>\n",
       "  </tbody>\n",
       "</table>\n",
       "</div>"
      ],
      "text/plain": [
       "  status       lost_reason     room_type  new_lease     Test\n",
       "0   LOST    Not interested  Entire Place         42    240.0\n",
       "1   LOST  Low availability       Ensuite         24    120.0\n",
       "2   LOST    Not responding       Ensuite         51  18750.0\n",
       "3   LOST  Low availability         Other         43    217.0\n",
       "4   LOST    Not interested        Studio         42    120.0"
      ]
     },
     "execution_count": 43,
     "metadata": {},
     "output_type": "execute_result"
    }
   ],
   "source": [
    "# Remove unwanted column\n",
    "df = df.drop(['Field_1', 'lead_id'],axis=1)\n",
    "df.head()"
   ]
  },
  {
   "cell_type": "code",
   "execution_count": 44,
   "id": "bfb13a93",
   "metadata": {},
   "outputs": [
    {
     "data": {
      "text/plain": [
       "(32983, 5)"
      ]
     },
     "execution_count": 44,
     "metadata": {},
     "output_type": "execute_result"
    }
   ],
   "source": [
    "df.shape"
   ]
  },
  {
   "cell_type": "code",
   "execution_count": 45,
   "id": "3af11807",
   "metadata": {},
   "outputs": [
    {
     "name": "stdout",
     "output_type": "stream",
     "text": [
      "status:['LOST' 'WON']\n",
      "\n",
      "lost_reason:['Not interested' 'Low availability' 'Not responding' 'Semester stay'\n",
      " 'Low budget' 'Booked with manager' 'Other' 'Short stay' 'Repeat lead'\n",
      " 'Not a student' 'Booked on campus accommodation' 'Just Enquiring'\n",
      " 'Visa/admission denied' 'Inadequate details'\n",
      " 'Wants private accommodation' 'Lead issue' 'Not going to university'\n",
      " 'Distance issue' 'Supply issue' 'No supply' \"Didn't respond in time\"\n",
      " 'Booked with competitor' 'Junk lead' 'Not serving in that region'\n",
      " 'Junk lead/ Just Enquiring' 'Looking for admission' 'Looking for loan'\n",
      " 'Guarantor issue' 'Underage student' 'Looking for Scholarship'\n",
      " 'Cross sell']\n",
      "\n",
      "room_type:['Entire Place' 'Ensuite' 'Other' 'Studio' 'TwinStudio' 'NonEnsuite']\n",
      "\n",
      "new_lease:[  42   24   51   43 2436   44   52   15    8   49   45   40   10   17\n",
      "   12    3   41    1 4451   14  294   46    6   39   50   38   36   47\n",
      "   84   48   16 4044   34 1224   37  150    4  357   23    2   21  243\n",
      "   25   33   27  312   22  812   13  104   26   35 4452   20 3962 3248\n",
      "  125   56   55   18  130   30   32  250    5   19  144   60 1216 3638\n",
      "   53 2530 3844   11 5154 2448  200  160 3640    9   28   96 4344 2444\n",
      "  272 1015 4252 4251   58   57   31   70]\n",
      "\n",
      "Test:[2.4000000e+02 1.2000000e+02 1.8750000e+04 2.1700000e+02 4.5000000e+02\n",
      " 1.8000000e+02 9.7000000e+01 2.3000000e+02 1.0000000e+02 3.0000000e+02\n",
      " 2.5000000e+02 1.3500000e+02 1.1600000e+02 1.5000000e+02 2.1000000e+02\n",
      " 1.4000000e+02 2.2000000e+02 3.5000000e+04 1.6000000e+02 2.0000000e+02\n",
      " 2.1400000e+02 9.2000000e+01 1.1200000e+02 2.4100000e+02 1.6200000e+02\n",
      " 1.5500000e+02 1.3000000e+02 8.4000000e+01 1.4900000e+02 1.2500000e+02\n",
      " 3.2300000e+02 1.7500000e+02 1.7000000e+02 4.0000000e+02 1.3800000e+02\n",
      " 2.6000000e+02 5.0000000e+02 1.7900000e+02 7.0000000e+01 1.7800000e+02\n",
      " 2.6250000e+04 1.9900000e+02 1.3300000e+02 1.1000000e+02 4.3750000e+04\n",
      " 1.4300000e+02 2.7000000e+02 5.9600000e+02 1.2320000e+03 1.8500000e+02\n",
      " 9.8000000e+01 1.0900000e+02 2.8500000e+02 5.0600000e+03 2.2600000e+02\n",
      " 6.0000000e+02 2.2700000e+02 4.6875000e+04 1.3900000e+02 2.6500000e+02\n",
      " 1.9300000e+02 1.5900000e+02 2.1300000e+02 1.6600000e+02 3.0600000e+02\n",
      " 3.9200000e+02 2.3600000e+02 1.7300000e+02 9.9000000e+01 2.3200000e+02\n",
      " 1.0200000e+02 1.8400000e+02 8.5000000e+01 1.6900000e+02 2.3800000e+02\n",
      " 1.1700000e+02 1.4500000e+02 2.2500000e+02 1.4375000e+04 1.8300000e+02\n",
      " 1.4200000e+02 2.9000000e+02 1.2014000e+05 8.9000000e+01 1.0500000e+02\n",
      " 2.2200000e+02 1.6100000e+02 2.0700000e+02 1.4600000e+02 8.6000000e+01\n",
      " 2.5800000e+02 2.5500000e+02 1.4015000e+05 3.1250000e+04 3.5000000e+02\n",
      " 1.0800000e+03 8.0000000e+01 2.2500000e+04 1.5290000e+03 1.3700000e+02\n",
      " 1.5000000e+04 2.1900000e+02 3.2000000e+02 1.5700000e+02 1.3200000e+02\n",
      " 5.6900000e+02 1.2018000e+05 2.2900000e+02 1.5400000e+02 5.0010000e+06\n",
      " 2.9900000e+02 3.7500000e+04 1.2600000e+02 4.5050000e+05 1.6500000e+02\n",
      " 3.1700000e+02 2.1500000e+02 1.3017500e+05 2.4500000e+02 1.1250000e+04\n",
      " 1.3400000e+02 8.5000000e+02 2.4200000e+02 9.5000000e+01 1.7500000e+04\n",
      " 2.0000000e+04 2.4800000e+02 3.5500000e+02 9.1000000e+01 2.8000000e+02\n",
      " 1.9500000e+02 3.0500000e+02 2.3750000e+04 1.2900000e+02 2.1875000e+04\n",
      " 1.0012000e+05 2.4900000e+02 3.1900000e+02 1.9000000e+02 1.2500000e+04\n",
      " 1.0600000e+02 5.9900000e+02 1.0300000e+02 1.5018750e+07 1.8700000e+02\n",
      " 2.0900000e+02 1.5017000e+05 2.9400000e+02 2.4700000e+02 2.1250000e+04\n",
      " 3.2500000e+02 1.3820000e+03 1.9200000e+02 1.5200000e+02 7.0000000e+02\n",
      " 2.3700000e+02 8.8800000e+02 1.7600000e+02 2.8750000e+04 4.9100000e+02\n",
      " 1.1500000e+02 1.5800000e+02 1.9600000e+02 2.4400000e+02 7.7000000e+01\n",
      " 1.5900000e+03 1.0000000e+05 3.8400000e+02 1.5100000e+02 2.2400000e+02\n",
      " 1.1990000e+03 1.5018000e+05 1.2015000e+05 1.6990000e+03 3.0040000e+05\n",
      " 1.6700000e+02 8.7000000e+01 1.4400000e+02 2.5000000e+04 1.1900000e+02\n",
      " 1.6800000e+02 5.3700000e+02 1.7400000e+02 4.0000000e+04 1.1400000e+02\n",
      " 1.8800000e+02 1.8900000e+02 2.7500000e+02 4.5400000e+02 1.5600000e+02\n",
      " 1.7700000e+02 3.6875000e+04 4.3500000e+02 2.3500000e+02 7.5000000e+01\n",
      " 1.6400000e+02 2.0500000e+02 9.6000000e+01 1.2200000e+02 7.9000000e+01\n",
      " 3.6400000e+02 1.2700000e+02 8.0000000e+02 1.3750000e+04 2.5030000e+05\n",
      " 8.2000000e+02 6.2500000e+04 3.8500000e+02 1.7200000e+02 2.5600000e+02\n",
      " 1.9700000e+02 4.8300000e+02 2.1100000e+02 3.1800000e+02 9.6100000e+02\n",
      " 1.6018000e+05 3.5400000e+02 2.5200000e+02 1.4100000e+02 5.0000000e+01\n",
      " 2.5040000e+05 1.8200000e+02 6.4600000e+02 1.0011000e+05 1.0011500e+05\n",
      " 2.4600000e+02 1.2300000e+02 1.4800000e+02 1.2100000e+02 5.6250000e+04\n",
      " 2.0625000e+04 1.9100000e+02 3.8900000e+02 3.7550000e+07 2.1200000e+02\n",
      " 2.0200000e+02 1.5300000e+02 8.4000000e+02 2.0400000e+02 7.0000000e+03\n",
      " 2.0100000e+02 2.8900000e+02 7.1000000e+01 2.5900000e+02 6.5000000e+02\n",
      " 1.2518750e+07 1.1800000e+02 9.0000000e+01 5.0000000e+04 2.1610000e+03\n",
      " 2.7300000e+02 8.7500000e+03 3.4000000e+02 6.0061000e+05 9.3600000e+02\n",
      " 1.8100000e+02 1.0000000e+03 3.6000000e+02 2.1800000e+02 7.0900000e+03\n",
      " 7.0075000e+05 1.1300000e+02 1.6268750e+07 1.0013000e+05 3.9800000e+02\n",
      " 1.6300000e+02 2.9100000e+02 2.3400000e+02 2.7800000e+02 3.7200000e+02\n",
      " 1.3100000e+02 1.0018500e+05 5.5000000e+02 4.7700000e+02 4.2000000e+02\n",
      " 2.7100000e+02 3.3000000e+02 7.0800000e+03 1.5020000e+05 1.5147500e+07\n",
      " 3.1300000e+02 3.0200000e+02 6.0000000e+01 3.4700000e+02 3.1200000e+02\n",
      " 1.0020000e+05 9.7500000e+02 1.3600000e+02 2.5700000e+02 3.7000000e+02\n",
      " 2.0600000e+02 2.3300000e+02 6.8750000e+04 1.5625000e+04 1.2400000e+03\n",
      " 1.2800000e+02 3.9000000e+02 1.2990000e+03 3.0900000e+02 8.3000000e+01\n",
      " 2.1023000e+05 1.5020000e+07 3.8700000e+02 5.4750000e+05 1.9090000e+03\n",
      " 4.6700000e+02 1.8125000e+04 3.0300000e+02 1.2515000e+07 3.2600000e+02\n",
      " 2.9300000e+02 3.1000000e+02 2.3900000e+02 3.4900000e+02 2.2100000e+02\n",
      " 2.6400000e+02 2.9800000e+02 9.3000000e+01 2.8200000e+02 2.4030000e+05\n",
      " 2.5300000e+02 1.9800000e+02 3.0800000e+02 2.8400000e+02 4.6500000e+02\n",
      " 1.6875000e+04 3.3700000e+02 4.3000000e+02 1.7100000e+02 1.0400000e+02\n",
      " 1.4700000e+02 5.0500000e+02 5.1900000e+02 1.5650000e+03 1.8772500e+07\n",
      " 2.5400000e+02 9.0000000e+02 3.5900000e+02 2.7200000e+02 1.2570000e+03\n",
      " 3.2200000e+02 3.4400000e+02 1.2400000e+02 7.0080000e+05 9.9700000e+02\n",
      " 4.0500000e+03 5.1000000e+01 4.7400000e+02 7.5000000e+02 2.6300000e+02\n",
      " 3.6200000e+02 8.1250000e+04 2.8600000e+02 5.2100000e+02 1.7790000e+03\n",
      " 3.6900000e+02 1.1080000e+03 8.4300000e+02 3.3800000e+02 1.5016250e+07\n",
      " 1.8580000e+03 2.1300000e+03 1.8770000e+07 2.2022500e+05 4.2500000e+02\n",
      " 3.5700000e+02 2.0025000e+05 5.0060000e+05 2.7900000e+02 4.7300000e+02\n",
      " 3.5800000e+02 2.7500000e+04 9.3750000e+03 3.4100000e+02 3.3200000e+02\n",
      " 1.0000000e+04 2.6600000e+02 1.3640000e+03 1.1000000e+03 3.8600000e+02\n",
      " 1.0012500e+05 9.0100000e+04 1.0990000e+03 6.7500000e+02 3.9500000e+02\n",
      " 4.2600000e+02 2.8300000e+02 8.0100000e+04 3.4500000e+02 1.2090000e+03\n",
      " 2.8125000e+04 1.6125000e+04 2.1275000e+07 7.0010000e+06 8.0950000e+03\n",
      " 1.5000000e+03 3.7500000e+02 4.3400000e+02 9.3200000e+02 4.6300000e+02\n",
      " 1.0030000e+03 4.1100000e+02 4.6200000e+02 2.3125000e+04 1.6020000e+05\n",
      " 2.6700000e+02 2.5031250e+07 1.2000000e+03 4.4500000e+02 3.6700000e+02\n",
      " 2.5100000e+02 3.8000000e+02 4.0045000e+07 2.8800000e+02 6.1800000e+02\n",
      " 1.5016875e+07 4.1400000e+02 1.6250000e+04 5.8500000e+02 2.0300000e+02\n",
      " 2.9200000e+02 3.0035000e+05 6.7000000e+01 2.5027000e+05 4.0060000e+05\n",
      " 4.0045000e+05 1.3430000e+03 2.2023000e+05 5.2300000e+02 7.5875000e+05\n",
      " 7.4000000e+01 2.3100000e+02 2.0035000e+05 3.0625000e+04 3.1287500e+07\n",
      " 4.0050000e+05 2.0002500e+07 6.3900000e+02 2.0022000e+05 7.2000000e+01\n",
      " 1.5025000e+05 2.2531250e+07 1.1012000e+05 1.5022500e+07 8.1000000e+02\n",
      " 2.6100000e+02 3.3900000e+02 2.7400000e+02 1.3950000e+03 3.0037500e+07\n",
      " 8.7500000e+02 1.2513125e+07 1.2300000e+03 7.8500000e+02 1.5015625e+07\n",
      " 4.5200000e+02 4.1200000e+02 2.8100000e+02 8.8625000e+05 1.1400000e+03\n",
      " 7.2000000e+02 8.6700000e+02 8.4900000e+02 2.6900000e+02 4.7100000e+02\n",
      " 4.1700000e+02 3.0400000e+02 1.0790000e+03 1.8787500e+07 5.0062500e+07\n",
      " 7.5000000e+04 9.9500000e+02 2.7375000e+04 3.6500000e+02 1.0015000e+05\n",
      " 1.7520000e+07 2.2535000e+05 3.2100000e+02 1.2013000e+05 3.5040000e+05\n",
      " 2.0000000e+01 5.0700000e+03 6.0075000e+05 1.9375000e+04 8.2000000e+01\n",
      " 1.0100000e+02 3.7800000e+02 1.3500000e+03 6.2000000e+02 3.9900000e+02\n",
      " 6.8000000e+01 3.5100000e+02 8.5900000e+03 5.9500000e+02 1.5360000e+03\n",
      " 1.0016250e+07 3.2500000e+04 4.1250000e+04 1.8775000e+07 8.8000000e+01\n",
      " 5.1100000e+02 8.3400000e+02 2.9450000e+03 3.7540625e+07 2.0025000e+07\n",
      " 9.9000000e+02 4.6800000e+02 3.7400000e+02 5.5000000e+01 2.1600000e+02\n",
      " 3.3600000e+02 6.0120000e+04 1.3015000e+05 2.0030000e+05 8.7000000e+02\n",
      " 1.9400000e+02 1.1300000e+03 1.7522500e+07 4.0700000e+02 7.9100000e+02\n",
      " 9.5000000e+02 3.3100000e+02 4.1300000e+02 3.7900000e+02 1.8600000e+02\n",
      " 6.9000000e+02 1.2001300e+07 1.7020000e+03 8.9700000e+02 4.1900000e+02\n",
      " 3.2400000e+02 9.2000000e+02 5.0070000e+05 8.0900000e+03 6.0070000e+05\n",
      " 3.0700000e+02 7.8000000e+02 2.2300000e+02 4.9800000e+02 9.0500000e+02\n",
      " 1.1266250e+07 1.3013500e+05 1.1875000e+04 9.6500000e+02 6.5750000e+03\n",
      " 1.5125000e+04 1.8600000e+03 2.8250000e+04 4.3796875e+07 3.3500000e+02\n",
      " 1.1100000e+02 1.6517000e+05 1.4000000e+03 1.8750000e+03 2.2320000e+03\n",
      " 6.5000000e+01 2.4400000e+07 9.0120000e+04 5.5000000e+03 8.0120000e+04\n",
      " 6.0700000e+03 4.9900000e+02 3.5037500e+05 8.6600000e+02 1.3000000e+03\n",
      " 3.7543750e+07 1.2600000e+03 4.3100000e+02 1.3766250e+07 2.0250000e+04\n",
      " 2.5026000e+05 1.2016000e+05 1.8771250e+07 2.4300000e+02 1.2500000e+05\n",
      " 3.7040000e+05 1.4750000e+03 1.7518750e+07 4.2800000e+02 3.0035000e+07\n",
      " 1.2220000e+03 1.7521250e+07 3.1500000e+02 2.0800000e+02 3.7100000e+02\n",
      " 1.8375000e+04 1.0800000e+02 3.9100000e+02 3.0100000e+02 1.2516250e+07\n",
      " 2.9500000e+02 4.4000000e+02 2.0026000e+05 2.9700000e+02 8.7625000e+06\n",
      " 1.6850000e+03 2.7700000e+02 3.8300000e+02 9.7300000e+02 5.5800000e+02\n",
      " 4.2300000e+02 3.9000000e+04 4.4500000e+03 2.2000000e+03 2.0875000e+04\n",
      " 1.2265000e+07 1.6000000e+01 7.5000000e+03 2.0500000e+04 3.3300000e+02\n",
      " 1.0012500e+07 2.2800000e+06 4.5000000e+04 2.2532500e+07 4.5300000e+02\n",
      " 3.6300000e+02 2.2800000e+02 1.4001500e+07 1.7518000e+05 1.0700000e+02\n",
      " 2.0022500e+07 2.5030000e+07 2.6875000e+04 1.2513750e+07 1.8000000e+04\n",
      " 1.3830000e+03 2.2526250e+07 1.5016000e+05 4.1800000e+02 1.7360000e+03\n",
      " 1.5017500e+07 4.0900000e+02 3.9700000e+02]\n",
      "\n"
     ]
    }
   ],
   "source": [
    "# Unique values in each column\n",
    "for col in df:\n",
    "    print(f'{col}:{df[col].unique()}\\n')"
   ]
  },
  {
   "cell_type": "code",
   "execution_count": 46,
   "id": "cd20a14e",
   "metadata": {},
   "outputs": [
    {
     "data": {
      "text/html": [
       "<div>\n",
       "<style scoped>\n",
       "    .dataframe tbody tr th:only-of-type {\n",
       "        vertical-align: middle;\n",
       "    }\n",
       "\n",
       "    .dataframe tbody tr th {\n",
       "        vertical-align: top;\n",
       "    }\n",
       "\n",
       "    .dataframe thead th {\n",
       "        text-align: right;\n",
       "    }\n",
       "</style>\n",
       "<table border=\"1\" class=\"dataframe\">\n",
       "  <thead>\n",
       "    <tr style=\"text-align: right;\">\n",
       "      <th></th>\n",
       "      <th>status</th>\n",
       "      <th>lost_reason</th>\n",
       "      <th>room_type</th>\n",
       "      <th>Lease(Weeks)</th>\n",
       "      <th>Budget(Pounds)</th>\n",
       "    </tr>\n",
       "  </thead>\n",
       "  <tbody>\n",
       "    <tr>\n",
       "      <th>0</th>\n",
       "      <td>LOST</td>\n",
       "      <td>Not interested</td>\n",
       "      <td>Entire Place</td>\n",
       "      <td>42</td>\n",
       "      <td>240.0</td>\n",
       "    </tr>\n",
       "    <tr>\n",
       "      <th>1</th>\n",
       "      <td>LOST</td>\n",
       "      <td>Low availability</td>\n",
       "      <td>Ensuite</td>\n",
       "      <td>24</td>\n",
       "      <td>120.0</td>\n",
       "    </tr>\n",
       "    <tr>\n",
       "      <th>2</th>\n",
       "      <td>LOST</td>\n",
       "      <td>Not responding</td>\n",
       "      <td>Ensuite</td>\n",
       "      <td>51</td>\n",
       "      <td>18750.0</td>\n",
       "    </tr>\n",
       "    <tr>\n",
       "      <th>3</th>\n",
       "      <td>LOST</td>\n",
       "      <td>Low availability</td>\n",
       "      <td>Other</td>\n",
       "      <td>43</td>\n",
       "      <td>217.0</td>\n",
       "    </tr>\n",
       "    <tr>\n",
       "      <th>4</th>\n",
       "      <td>LOST</td>\n",
       "      <td>Not interested</td>\n",
       "      <td>Studio</td>\n",
       "      <td>42</td>\n",
       "      <td>120.0</td>\n",
       "    </tr>\n",
       "  </tbody>\n",
       "</table>\n",
       "</div>"
      ],
      "text/plain": [
       "  status       lost_reason     room_type  Lease(Weeks)  Budget(Pounds)\n",
       "0   LOST    Not interested  Entire Place            42           240.0\n",
       "1   LOST  Low availability       Ensuite            24           120.0\n",
       "2   LOST    Not responding       Ensuite            51         18750.0\n",
       "3   LOST  Low availability         Other            43           217.0\n",
       "4   LOST    Not interested        Studio            42           120.0"
      ]
     },
     "execution_count": 46,
     "metadata": {},
     "output_type": "execute_result"
    }
   ],
   "source": [
    "# Renaming Columns\n",
    "df = df.rename(columns = {'new_lease':'Lease(Weeks)','Test':'Budget(Pounds)'})\n",
    "df.head()"
   ]
  },
  {
   "cell_type": "code",
   "execution_count": 47,
   "id": "4ea371c0",
   "metadata": {},
   "outputs": [
    {
     "name": "stdout",
     "output_type": "stream",
     "text": [
      "<class 'pandas.core.frame.DataFrame'>\n",
      "Int64Index: 32983 entries, 0 to 33121\n",
      "Data columns (total 5 columns):\n",
      " #   Column          Non-Null Count  Dtype  \n",
      "---  ------          --------------  -----  \n",
      " 0   status          32983 non-null  object \n",
      " 1   lost_reason     32983 non-null  object \n",
      " 2   room_type       32983 non-null  object \n",
      " 3   Lease(Weeks)    32983 non-null  int64  \n",
      " 4   Budget(Pounds)  32983 non-null  float64\n",
      "dtypes: float64(1), int64(1), object(3)\n",
      "memory usage: 1.5+ MB\n"
     ]
    }
   ],
   "source": [
    "df.info()"
   ]
  },
  {
   "cell_type": "markdown",
   "id": "1e221526",
   "metadata": {},
   "source": [
    "Correlation Visualization "
   ]
  },
  {
   "cell_type": "code",
   "execution_count": 48,
   "id": "a6bec2e5",
   "metadata": {},
   "outputs": [
    {
     "name": "stderr",
     "output_type": "stream",
     "text": [
      "C:\\Users\\Shefa\\AppData\\Local\\Temp\\ipykernel_38992\\2202686469.py:4: FutureWarning: The default value of numeric_only in DataFrame.corr is deprecated. In a future version, it will default to False. Select only valid columns or specify the value of numeric_only to silence this warning.\n",
      "  cm = df.corr()\n"
     ]
    },
    {
     "data": {
      "text/plain": [
       "<AxesSubplot: >"
      ]
     },
     "execution_count": 48,
     "metadata": {},
     "output_type": "execute_result"
    },
    {
     "data": {
      "image/png": "[encoded data removed]",
      "text/plain": [
       "<Figure size 2000x1000 with 2 Axes>"
      ]
     },
     "metadata": {},
     "output_type": "display_data"
    }
   ],
   "source": [
    "import matplotlib.pyplot as plt\n",
    "import seaborn as sns\n",
    "\n",
    "cm = df.corr()\n",
    "fig,ax= plt.subplots()\n",
    "fig.set_size_inches(20,10)\n",
    "sns.heatmap(cm, annot=True, cmap='YlGnBu')"
   ]
  },
  {
   "cell_type": "markdown",
   "id": "1d2e5faf",
   "metadata": {},
   "source": [
    "# Data Transformation"
   ]
  },
  {
   "cell_type": "code",
   "execution_count": 49,
   "id": "425c671d",
   "metadata": {},
   "outputs": [
    {
     "data": {
      "text/html": [
       "<div>\n",
       "<style scoped>\n",
       "    .dataframe tbody tr th:only-of-type {\n",
       "        vertical-align: middle;\n",
       "    }\n",
       "\n",
       "    .dataframe tbody tr th {\n",
       "        vertical-align: top;\n",
       "    }\n",
       "\n",
       "    .dataframe thead th {\n",
       "        text-align: right;\n",
       "    }\n",
       "</style>\n",
       "<table border=\"1\" class=\"dataframe\">\n",
       "  <thead>\n",
       "    <tr style=\"text-align: right;\">\n",
       "      <th></th>\n",
       "      <th>status</th>\n",
       "      <th>lost_reason</th>\n",
       "      <th>room_type</th>\n",
       "      <th>Lease(Weeks)</th>\n",
       "      <th>Budget(Pounds)</th>\n",
       "    </tr>\n",
       "  </thead>\n",
       "  <tbody>\n",
       "    <tr>\n",
       "      <th>0</th>\n",
       "      <td>0</td>\n",
       "      <td>Not interested</td>\n",
       "      <td>Entire Place</td>\n",
       "      <td>42</td>\n",
       "      <td>240.0</td>\n",
       "    </tr>\n",
       "    <tr>\n",
       "      <th>1</th>\n",
       "      <td>0</td>\n",
       "      <td>Low availability</td>\n",
       "      <td>Ensuite</td>\n",
       "      <td>24</td>\n",
       "      <td>120.0</td>\n",
       "    </tr>\n",
       "    <tr>\n",
       "      <th>2</th>\n",
       "      <td>0</td>\n",
       "      <td>Not responding</td>\n",
       "      <td>Ensuite</td>\n",
       "      <td>51</td>\n",
       "      <td>18750.0</td>\n",
       "    </tr>\n",
       "    <tr>\n",
       "      <th>3</th>\n",
       "      <td>0</td>\n",
       "      <td>Low availability</td>\n",
       "      <td>Other</td>\n",
       "      <td>43</td>\n",
       "      <td>217.0</td>\n",
       "    </tr>\n",
       "    <tr>\n",
       "      <th>4</th>\n",
       "      <td>0</td>\n",
       "      <td>Not interested</td>\n",
       "      <td>Studio</td>\n",
       "      <td>42</td>\n",
       "      <td>120.0</td>\n",
       "    </tr>\n",
       "  </tbody>\n",
       "</table>\n",
       "</div>"
      ],
      "text/plain": [
       "   status       lost_reason     room_type  Lease(Weeks)  Budget(Pounds)\n",
       "0       0    Not interested  Entire Place            42           240.0\n",
       "1       0  Low availability       Ensuite            24           120.0\n",
       "2       0    Not responding       Ensuite            51         18750.0\n",
       "3       0  Low availability         Other            43           217.0\n",
       "4       0    Not interested        Studio            42           120.0"
      ]
     },
     "execution_count": 49,
     "metadata": {},
     "output_type": "execute_result"
    }
   ],
   "source": [
    "mapping = {'LOST':0,'WON':1}\n",
    "df['status'] = df['status'].map(mapping)\n",
    "df.head()"
   ]
  },
  {
   "cell_type": "code",
   "execution_count": 50,
   "id": "a9c4ee73",
   "metadata": {},
   "outputs": [
    {
     "data": {
      "text/html": [
       "<div>\n",
       "<style scoped>\n",
       "    .dataframe tbody tr th:only-of-type {\n",
       "        vertical-align: middle;\n",
       "    }\n",
       "\n",
       "    .dataframe tbody tr th {\n",
       "        vertical-align: top;\n",
       "    }\n",
       "\n",
       "    .dataframe thead th {\n",
       "        text-align: right;\n",
       "    }\n",
       "</style>\n",
       "<table border=\"1\" class=\"dataframe\">\n",
       "  <thead>\n",
       "    <tr style=\"text-align: right;\">\n",
       "      <th></th>\n",
       "      <th>status</th>\n",
       "      <th>Lease(Weeks)</th>\n",
       "      <th>Budget(Pounds)</th>\n",
       "      <th>lost_reason_Booked on campus accommodation</th>\n",
       "      <th>lost_reason_Booked with competitor</th>\n",
       "      <th>lost_reason_Booked with manager</th>\n",
       "      <th>lost_reason_Cross sell</th>\n",
       "      <th>lost_reason_Didn't respond in time</th>\n",
       "      <th>lost_reason_Distance issue</th>\n",
       "      <th>lost_reason_Guarantor issue</th>\n",
       "      <th>...</th>\n",
       "      <th>lost_reason_Supply issue</th>\n",
       "      <th>lost_reason_Underage student</th>\n",
       "      <th>lost_reason_Visa/admission denied</th>\n",
       "      <th>lost_reason_Wants private accommodation</th>\n",
       "      <th>room_type_Ensuite</th>\n",
       "      <th>room_type_Entire Place</th>\n",
       "      <th>room_type_NonEnsuite</th>\n",
       "      <th>room_type_Other</th>\n",
       "      <th>room_type_Studio</th>\n",
       "      <th>room_type_TwinStudio</th>\n",
       "    </tr>\n",
       "  </thead>\n",
       "  <tbody>\n",
       "    <tr>\n",
       "      <th>0</th>\n",
       "      <td>0</td>\n",
       "      <td>42</td>\n",
       "      <td>240.0</td>\n",
       "      <td>0</td>\n",
       "      <td>0</td>\n",
       "      <td>0</td>\n",
       "      <td>0</td>\n",
       "      <td>0</td>\n",
       "      <td>0</td>\n",
       "      <td>0</td>\n",
       "      <td>...</td>\n",
       "      <td>0</td>\n",
       "      <td>0</td>\n",
       "      <td>0</td>\n",
       "      <td>0</td>\n",
       "      <td>0</td>\n",
       "      <td>1</td>\n",
       "      <td>0</td>\n",
       "      <td>0</td>\n",
       "      <td>0</td>\n",
       "      <td>0</td>\n",
       "    </tr>\n",
       "    <tr>\n",
       "      <th>1</th>\n",
       "      <td>0</td>\n",
       "      <td>24</td>\n",
       "      <td>120.0</td>\n",
       "      <td>0</td>\n",
       "      <td>0</td>\n",
       "      <td>0</td>\n",
       "      <td>0</td>\n",
       "      <td>0</td>\n",
       "      <td>0</td>\n",
       "      <td>0</td>\n",
       "      <td>...</td>\n",
       "      <td>0</td>\n",
       "      <td>0</td>\n",
       "      <td>0</td>\n",
       "      <td>0</td>\n",
       "      <td>1</td>\n",
       "      <td>0</td>\n",
       "      <td>0</td>\n",
       "      <td>0</td>\n",
       "      <td>0</td>\n",
       "      <td>0</td>\n",
       "    </tr>\n",
       "    <tr>\n",
       "      <th>2</th>\n",
       "      <td>0</td>\n",
       "      <td>51</td>\n",
       "      <td>18750.0</td>\n",
       "      <td>0</td>\n",
       "      <td>0</td>\n",
       "      <td>0</td>\n",
       "      <td>0</td>\n",
       "      <td>0</td>\n",
       "      <td>0</td>\n",
       "      <td>0</td>\n",
       "      <td>...</td>\n",
       "      <td>0</td>\n",
       "      <td>0</td>\n",
       "      <td>0</td>\n",
       "      <td>0</td>\n",
       "      <td>1</td>\n",
       "      <td>0</td>\n",
       "      <td>0</td>\n",
       "      <td>0</td>\n",
       "      <td>0</td>\n",
       "      <td>0</td>\n",
       "    </tr>\n",
       "    <tr>\n",
       "      <th>3</th>\n",
       "      <td>0</td>\n",
       "      <td>43</td>\n",
       "      <td>217.0</td>\n",
       "      <td>0</td>\n",
       "      <td>0</td>\n",
       "      <td>0</td>\n",
       "      <td>0</td>\n",
       "      <td>0</td>\n",
       "      <td>0</td>\n",
       "      <td>0</td>\n",
       "      <td>...</td>\n",
       "      <td>0</td>\n",
       "      <td>0</td>\n",
       "      <td>0</td>\n",
       "      <td>0</td>\n",
       "      <td>0</td>\n",
       "      <td>0</td>\n",
       "      <td>0</td>\n",
       "      <td>1</td>\n",
       "      <td>0</td>\n",
       "      <td>0</td>\n",
       "    </tr>\n",
       "    <tr>\n",
       "      <th>4</th>\n",
       "      <td>0</td>\n",
       "      <td>42</td>\n",
       "      <td>120.0</td>\n",
       "      <td>0</td>\n",
       "      <td>0</td>\n",
       "      <td>0</td>\n",
       "      <td>0</td>\n",
       "      <td>0</td>\n",
       "      <td>0</td>\n",
       "      <td>0</td>\n",
       "      <td>...</td>\n",
       "      <td>0</td>\n",
       "      <td>0</td>\n",
       "      <td>0</td>\n",
       "      <td>0</td>\n",
       "      <td>0</td>\n",
       "      <td>0</td>\n",
       "      <td>0</td>\n",
       "      <td>0</td>\n",
       "      <td>1</td>\n",
       "      <td>0</td>\n",
       "    </tr>\n",
       "  </tbody>\n",
       "</table>\n",
       "<p>5 rows × 40 columns</p>\n",
       "</div>"
      ],
      "text/plain": [
       "   status  Lease(Weeks)  Budget(Pounds)  \\\n",
       "0       0            42           240.0   \n",
       "1       0            24           120.0   \n",
       "2       0            51         18750.0   \n",
       "3       0            43           217.0   \n",
       "4       0            42           120.0   \n",
       "\n",
       "   lost_reason_Booked on campus accommodation  \\\n",
       "0                                           0   \n",
       "1                                           0   \n",
       "2                                           0   \n",
       "3                                           0   \n",
       "4                                           0   \n",
       "\n",
       "   lost_reason_Booked with competitor  lost_reason_Booked with manager  \\\n",
       "0                                   0                                0   \n",
       "1                                   0                                0   \n",
       "2                                   0                                0   \n",
       "3                                   0                                0   \n",
       "4                                   0                                0   \n",
       "\n",
       "   lost_reason_Cross sell  lost_reason_Didn't respond in time  \\\n",
       "0                       0                                   0   \n",
       "1                       0                                   0   \n",
       "2                       0                                   0   \n",
       "3                       0                                   0   \n",
       "4                       0                                   0   \n",
       "\n",
       "   lost_reason_Distance issue  lost_reason_Guarantor issue  ...  \\\n",
       "0                           0                            0  ...   \n",
       "1                           0                            0  ...   \n",
       "2                           0                            0  ...   \n",
       "3                           0                            0  ...   \n",
       "4                           0                            0  ...   \n",
       "\n",
       "   lost_reason_Supply issue  lost_reason_Underage student  \\\n",
       "0                         0                             0   \n",
       "1                         0                             0   \n",
       "2                         0                             0   \n",
       "3                         0                             0   \n",
       "4                         0                             0   \n",
       "\n",
       "   lost_reason_Visa/admission denied  lost_reason_Wants private accommodation  \\\n",
       "0                                  0                                        0   \n",
       "1                                  0                                        0   \n",
       "2                                  0                                        0   \n",
       "3                                  0                                        0   \n",
       "4                                  0                                        0   \n",
       "\n",
       "   room_type_Ensuite  room_type_Entire Place  room_type_NonEnsuite  \\\n",
       "0                  0                       1                     0   \n",
       "1                  1                       0                     0   \n",
       "2                  1                       0                     0   \n",
       "3                  0                       0                     0   \n",
       "4                  0                       0                     0   \n",
       "\n",
       "   room_type_Other  room_type_Studio  room_type_TwinStudio  \n",
       "0                0                 0                     0  \n",
       "1                0                 0                     0  \n",
       "2                0                 0                     0  \n",
       "3                1                 0                     0  \n",
       "4                0                 1                     0  \n",
       "\n",
       "[5 rows x 40 columns]"
      ]
     },
     "execution_count": 50,
     "metadata": {},
     "output_type": "execute_result"
    }
   ],
   "source": [
    "df = pd.get_dummies(df, columns = ['lost_reason','room_type'])\n",
    "df.head()"
   ]
  },
  {
   "cell_type": "code",
   "execution_count": 51,
   "id": "8b8588bb",
   "metadata": {},
   "outputs": [
    {
     "data": {
      "text/plain": [
       "(32983, 40)"
      ]
     },
     "execution_count": 51,
     "metadata": {},
     "output_type": "execute_result"
    }
   ],
   "source": [
    "df.shape"
   ]
  },
  {
   "cell_type": "markdown",
   "id": "91f92203",
   "metadata": {},
   "source": [
    "Data Scaling"
   ]
  },
  {
   "cell_type": "code",
   "execution_count": 52,
   "id": "84a68940",
   "metadata": {},
   "outputs": [
    {
     "data": {
      "text/html": [
       "<div>\n",
       "<style scoped>\n",
       "    .dataframe tbody tr th:only-of-type {\n",
       "        vertical-align: middle;\n",
       "    }\n",
       "\n",
       "    .dataframe tbody tr th {\n",
       "        vertical-align: top;\n",
       "    }\n",
       "\n",
       "    .dataframe thead th {\n",
       "        text-align: right;\n",
       "    }\n",
       "</style>\n",
       "<table border=\"1\" class=\"dataframe\">\n",
       "  <thead>\n",
       "    <tr style=\"text-align: right;\">\n",
       "      <th></th>\n",
       "      <th>status</th>\n",
       "      <th>Lease(Weeks)</th>\n",
       "      <th>Budget(Pounds)</th>\n",
       "      <th>lost_reason_Booked on campus accommodation</th>\n",
       "      <th>lost_reason_Booked with competitor</th>\n",
       "      <th>lost_reason_Booked with manager</th>\n",
       "      <th>lost_reason_Cross sell</th>\n",
       "      <th>lost_reason_Didn't respond in time</th>\n",
       "      <th>lost_reason_Distance issue</th>\n",
       "      <th>lost_reason_Guarantor issue</th>\n",
       "      <th>...</th>\n",
       "      <th>lost_reason_Supply issue</th>\n",
       "      <th>lost_reason_Underage student</th>\n",
       "      <th>lost_reason_Visa/admission denied</th>\n",
       "      <th>lost_reason_Wants private accommodation</th>\n",
       "      <th>room_type_Ensuite</th>\n",
       "      <th>room_type_Entire Place</th>\n",
       "      <th>room_type_NonEnsuite</th>\n",
       "      <th>room_type_Other</th>\n",
       "      <th>room_type_Studio</th>\n",
       "      <th>room_type_TwinStudio</th>\n",
       "    </tr>\n",
       "  </thead>\n",
       "  <tbody>\n",
       "    <tr>\n",
       "      <th>0</th>\n",
       "      <td>0</td>\n",
       "      <td>0.007957</td>\n",
       "      <td>0.000004</td>\n",
       "      <td>0</td>\n",
       "      <td>0</td>\n",
       "      <td>0</td>\n",
       "      <td>0</td>\n",
       "      <td>0</td>\n",
       "      <td>0</td>\n",
       "      <td>0</td>\n",
       "      <td>...</td>\n",
       "      <td>0</td>\n",
       "      <td>0</td>\n",
       "      <td>0</td>\n",
       "      <td>0</td>\n",
       "      <td>0</td>\n",
       "      <td>1</td>\n",
       "      <td>0</td>\n",
       "      <td>0</td>\n",
       "      <td>0</td>\n",
       "      <td>0</td>\n",
       "    </tr>\n",
       "    <tr>\n",
       "      <th>1</th>\n",
       "      <td>0</td>\n",
       "      <td>0.004463</td>\n",
       "      <td>0.000002</td>\n",
       "      <td>0</td>\n",
       "      <td>0</td>\n",
       "      <td>0</td>\n",
       "      <td>0</td>\n",
       "      <td>0</td>\n",
       "      <td>0</td>\n",
       "      <td>0</td>\n",
       "      <td>...</td>\n",
       "      <td>0</td>\n",
       "      <td>0</td>\n",
       "      <td>0</td>\n",
       "      <td>0</td>\n",
       "      <td>1</td>\n",
       "      <td>0</td>\n",
       "      <td>0</td>\n",
       "      <td>0</td>\n",
       "      <td>0</td>\n",
       "      <td>0</td>\n",
       "    </tr>\n",
       "    <tr>\n",
       "      <th>2</th>\n",
       "      <td>0</td>\n",
       "      <td>0.009703</td>\n",
       "      <td>0.000374</td>\n",
       "      <td>0</td>\n",
       "      <td>0</td>\n",
       "      <td>0</td>\n",
       "      <td>0</td>\n",
       "      <td>0</td>\n",
       "      <td>0</td>\n",
       "      <td>0</td>\n",
       "      <td>...</td>\n",
       "      <td>0</td>\n",
       "      <td>0</td>\n",
       "      <td>0</td>\n",
       "      <td>0</td>\n",
       "      <td>1</td>\n",
       "      <td>0</td>\n",
       "      <td>0</td>\n",
       "      <td>0</td>\n",
       "      <td>0</td>\n",
       "      <td>0</td>\n",
       "    </tr>\n",
       "    <tr>\n",
       "      <th>3</th>\n",
       "      <td>0</td>\n",
       "      <td>0.008151</td>\n",
       "      <td>0.000004</td>\n",
       "      <td>0</td>\n",
       "      <td>0</td>\n",
       "      <td>0</td>\n",
       "      <td>0</td>\n",
       "      <td>0</td>\n",
       "      <td>0</td>\n",
       "      <td>0</td>\n",
       "      <td>...</td>\n",
       "      <td>0</td>\n",
       "      <td>0</td>\n",
       "      <td>0</td>\n",
       "      <td>0</td>\n",
       "      <td>0</td>\n",
       "      <td>0</td>\n",
       "      <td>0</td>\n",
       "      <td>1</td>\n",
       "      <td>0</td>\n",
       "      <td>0</td>\n",
       "    </tr>\n",
       "    <tr>\n",
       "      <th>4</th>\n",
       "      <td>0</td>\n",
       "      <td>0.007957</td>\n",
       "      <td>0.000002</td>\n",
       "      <td>0</td>\n",
       "      <td>0</td>\n",
       "      <td>0</td>\n",
       "      <td>0</td>\n",
       "      <td>0</td>\n",
       "      <td>0</td>\n",
       "      <td>0</td>\n",
       "      <td>...</td>\n",
       "      <td>0</td>\n",
       "      <td>0</td>\n",
       "      <td>0</td>\n",
       "      <td>0</td>\n",
       "      <td>0</td>\n",
       "      <td>0</td>\n",
       "      <td>0</td>\n",
       "      <td>0</td>\n",
       "      <td>1</td>\n",
       "      <td>0</td>\n",
       "    </tr>\n",
       "  </tbody>\n",
       "</table>\n",
       "<p>5 rows × 40 columns</p>\n",
       "</div>"
      ],
      "text/plain": [
       "   status  Lease(Weeks)  Budget(Pounds)  \\\n",
       "0       0      0.007957        0.000004   \n",
       "1       0      0.004463        0.000002   \n",
       "2       0      0.009703        0.000374   \n",
       "3       0      0.008151        0.000004   \n",
       "4       0      0.007957        0.000002   \n",
       "\n",
       "   lost_reason_Booked on campus accommodation  \\\n",
       "0                                           0   \n",
       "1                                           0   \n",
       "2                                           0   \n",
       "3                                           0   \n",
       "4                                           0   \n",
       "\n",
       "   lost_reason_Booked with competitor  lost_reason_Booked with manager  \\\n",
       "0                                   0                                0   \n",
       "1                                   0                                0   \n",
       "2                                   0                                0   \n",
       "3                                   0                                0   \n",
       "4                                   0                                0   \n",
       "\n",
       "   lost_reason_Cross sell  lost_reason_Didn't respond in time  \\\n",
       "0                       0                                   0   \n",
       "1                       0                                   0   \n",
       "2                       0                                   0   \n",
       "3                       0                                   0   \n",
       "4                       0                                   0   \n",
       "\n",
       "   lost_reason_Distance issue  lost_reason_Guarantor issue  ...  \\\n",
       "0                           0                            0  ...   \n",
       "1                           0                            0  ...   \n",
       "2                           0                            0  ...   \n",
       "3                           0                            0  ...   \n",
       "4                           0                            0  ...   \n",
       "\n",
       "   lost_reason_Supply issue  lost_reason_Underage student  \\\n",
       "0                         0                             0   \n",
       "1                         0                             0   \n",
       "2                         0                             0   \n",
       "3                         0                             0   \n",
       "4                         0                             0   \n",
       "\n",
       "   lost_reason_Visa/admission denied  lost_reason_Wants private accommodation  \\\n",
       "0                                  0                                        0   \n",
       "1                                  0                                        0   \n",
       "2                                  0                                        0   \n",
       "3                                  0                                        0   \n",
       "4                                  0                                        0   \n",
       "\n",
       "   room_type_Ensuite  room_type_Entire Place  room_type_NonEnsuite  \\\n",
       "0                  0                       1                     0   \n",
       "1                  1                       0                     0   \n",
       "2                  1                       0                     0   \n",
       "3                  0                       0                     0   \n",
       "4                  0                       0                     0   \n",
       "\n",
       "   room_type_Other  room_type_Studio  room_type_TwinStudio  \n",
       "0                0                 0                     0  \n",
       "1                0                 0                     0  \n",
       "2                0                 0                     0  \n",
       "3                1                 0                     0  \n",
       "4                0                 1                     0  \n",
       "\n",
       "[5 rows x 40 columns]"
      ]
     },
     "execution_count": 52,
     "metadata": {},
     "output_type": "execute_result"
    }
   ],
   "source": [
    "from sklearn.preprocessing import MinMaxScaler\n",
    "scaler = MinMaxScaler()\n",
    "df[['Lease(Weeks)','Budget(Pounds)']] = scaler.fit_transform(df[['Lease(Weeks)','Budget(Pounds)']])\n",
    "df.head()"
   ]
  },
  {
   "cell_type": "markdown",
   "id": "261de8ed",
   "metadata": {},
   "source": [
    "# Train Test Split"
   ]
  },
  {
   "cell_type": "code",
   "execution_count": 53,
   "id": "5b4b3db7",
   "metadata": {},
   "outputs": [
    {
     "data": {
      "text/html": [
       "<div>\n",
       "<style scoped>\n",
       "    .dataframe tbody tr th:only-of-type {\n",
       "        vertical-align: middle;\n",
       "    }\n",
       "\n",
       "    .dataframe tbody tr th {\n",
       "        vertical-align: top;\n",
       "    }\n",
       "\n",
       "    .dataframe thead th {\n",
       "        text-align: right;\n",
       "    }\n",
       "</style>\n",
       "<table border=\"1\" class=\"dataframe\">\n",
       "  <thead>\n",
       "    <tr style=\"text-align: right;\">\n",
       "      <th></th>\n",
       "      <th>Lease(Weeks)</th>\n",
       "      <th>Budget(Pounds)</th>\n",
       "      <th>lost_reason_Booked on campus accommodation</th>\n",
       "      <th>lost_reason_Booked with competitor</th>\n",
       "      <th>lost_reason_Booked with manager</th>\n",
       "      <th>lost_reason_Cross sell</th>\n",
       "      <th>lost_reason_Didn't respond in time</th>\n",
       "      <th>lost_reason_Distance issue</th>\n",
       "      <th>lost_reason_Guarantor issue</th>\n",
       "      <th>lost_reason_Inadequate details</th>\n",
       "      <th>...</th>\n",
       "      <th>lost_reason_Supply issue</th>\n",
       "      <th>lost_reason_Underage student</th>\n",
       "      <th>lost_reason_Visa/admission denied</th>\n",
       "      <th>lost_reason_Wants private accommodation</th>\n",
       "      <th>room_type_Ensuite</th>\n",
       "      <th>room_type_Entire Place</th>\n",
       "      <th>room_type_NonEnsuite</th>\n",
       "      <th>room_type_Other</th>\n",
       "      <th>room_type_Studio</th>\n",
       "      <th>room_type_TwinStudio</th>\n",
       "    </tr>\n",
       "  </thead>\n",
       "  <tbody>\n",
       "    <tr>\n",
       "      <th>0</th>\n",
       "      <td>0.007957</td>\n",
       "      <td>0.000004</td>\n",
       "      <td>0</td>\n",
       "      <td>0</td>\n",
       "      <td>0</td>\n",
       "      <td>0</td>\n",
       "      <td>0</td>\n",
       "      <td>0</td>\n",
       "      <td>0</td>\n",
       "      <td>0</td>\n",
       "      <td>...</td>\n",
       "      <td>0</td>\n",
       "      <td>0</td>\n",
       "      <td>0</td>\n",
       "      <td>0</td>\n",
       "      <td>0</td>\n",
       "      <td>1</td>\n",
       "      <td>0</td>\n",
       "      <td>0</td>\n",
       "      <td>0</td>\n",
       "      <td>0</td>\n",
       "    </tr>\n",
       "    <tr>\n",
       "      <th>1</th>\n",
       "      <td>0.004463</td>\n",
       "      <td>0.000002</td>\n",
       "      <td>0</td>\n",
       "      <td>0</td>\n",
       "      <td>0</td>\n",
       "      <td>0</td>\n",
       "      <td>0</td>\n",
       "      <td>0</td>\n",
       "      <td>0</td>\n",
       "      <td>0</td>\n",
       "      <td>...</td>\n",
       "      <td>0</td>\n",
       "      <td>0</td>\n",
       "      <td>0</td>\n",
       "      <td>0</td>\n",
       "      <td>1</td>\n",
       "      <td>0</td>\n",
       "      <td>0</td>\n",
       "      <td>0</td>\n",
       "      <td>0</td>\n",
       "      <td>0</td>\n",
       "    </tr>\n",
       "    <tr>\n",
       "      <th>2</th>\n",
       "      <td>0.009703</td>\n",
       "      <td>0.000374</td>\n",
       "      <td>0</td>\n",
       "      <td>0</td>\n",
       "      <td>0</td>\n",
       "      <td>0</td>\n",
       "      <td>0</td>\n",
       "      <td>0</td>\n",
       "      <td>0</td>\n",
       "      <td>0</td>\n",
       "      <td>...</td>\n",
       "      <td>0</td>\n",
       "      <td>0</td>\n",
       "      <td>0</td>\n",
       "      <td>0</td>\n",
       "      <td>1</td>\n",
       "      <td>0</td>\n",
       "      <td>0</td>\n",
       "      <td>0</td>\n",
       "      <td>0</td>\n",
       "      <td>0</td>\n",
       "    </tr>\n",
       "    <tr>\n",
       "      <th>3</th>\n",
       "      <td>0.008151</td>\n",
       "      <td>0.000004</td>\n",
       "      <td>0</td>\n",
       "      <td>0</td>\n",
       "      <td>0</td>\n",
       "      <td>0</td>\n",
       "      <td>0</td>\n",
       "      <td>0</td>\n",
       "      <td>0</td>\n",
       "      <td>0</td>\n",
       "      <td>...</td>\n",
       "      <td>0</td>\n",
       "      <td>0</td>\n",
       "      <td>0</td>\n",
       "      <td>0</td>\n",
       "      <td>0</td>\n",
       "      <td>0</td>\n",
       "      <td>0</td>\n",
       "      <td>1</td>\n",
       "      <td>0</td>\n",
       "      <td>0</td>\n",
       "    </tr>\n",
       "    <tr>\n",
       "      <th>4</th>\n",
       "      <td>0.007957</td>\n",
       "      <td>0.000002</td>\n",
       "      <td>0</td>\n",
       "      <td>0</td>\n",
       "      <td>0</td>\n",
       "      <td>0</td>\n",
       "      <td>0</td>\n",
       "      <td>0</td>\n",
       "      <td>0</td>\n",
       "      <td>0</td>\n",
       "      <td>...</td>\n",
       "      <td>0</td>\n",
       "      <td>0</td>\n",
       "      <td>0</td>\n",
       "      <td>0</td>\n",
       "      <td>0</td>\n",
       "      <td>0</td>\n",
       "      <td>0</td>\n",
       "      <td>0</td>\n",
       "      <td>1</td>\n",
       "      <td>0</td>\n",
       "    </tr>\n",
       "  </tbody>\n",
       "</table>\n",
       "<p>5 rows × 39 columns</p>\n",
       "</div>"
      ],
      "text/plain": [
       "   Lease(Weeks)  Budget(Pounds)  lost_reason_Booked on campus accommodation  \\\n",
       "0      0.007957        0.000004                                           0   \n",
       "1      0.004463        0.000002                                           0   \n",
       "2      0.009703        0.000374                                           0   \n",
       "3      0.008151        0.000004                                           0   \n",
       "4      0.007957        0.000002                                           0   \n",
       "\n",
       "   lost_reason_Booked with competitor  lost_reason_Booked with manager  \\\n",
       "0                                   0                                0   \n",
       "1                                   0                                0   \n",
       "2                                   0                                0   \n",
       "3                                   0                                0   \n",
       "4                                   0                                0   \n",
       "\n",
       "   lost_reason_Cross sell  lost_reason_Didn't respond in time  \\\n",
       "0                       0                                   0   \n",
       "1                       0                                   0   \n",
       "2                       0                                   0   \n",
       "3                       0                                   0   \n",
       "4                       0                                   0   \n",
       "\n",
       "   lost_reason_Distance issue  lost_reason_Guarantor issue  \\\n",
       "0                           0                            0   \n",
       "1                           0                            0   \n",
       "2                           0                            0   \n",
       "3                           0                            0   \n",
       "4                           0                            0   \n",
       "\n",
       "   lost_reason_Inadequate details  ...  lost_reason_Supply issue  \\\n",
       "0                               0  ...                         0   \n",
       "1                               0  ...                         0   \n",
       "2                               0  ...                         0   \n",
       "3                               0  ...                         0   \n",
       "4                               0  ...                         0   \n",
       "\n",
       "   lost_reason_Underage student  lost_reason_Visa/admission denied  \\\n",
       "0                             0                                  0   \n",
       "1                             0                                  0   \n",
       "2                             0                                  0   \n",
       "3                             0                                  0   \n",
       "4                             0                                  0   \n",
       "\n",
       "   lost_reason_Wants private accommodation  room_type_Ensuite  \\\n",
       "0                                        0                  0   \n",
       "1                                        0                  1   \n",
       "2                                        0                  1   \n",
       "3                                        0                  0   \n",
       "4                                        0                  0   \n",
       "\n",
       "   room_type_Entire Place  room_type_NonEnsuite  room_type_Other  \\\n",
       "0                       1                     0                0   \n",
       "1                       0                     0                0   \n",
       "2                       0                     0                0   \n",
       "3                       0                     0                1   \n",
       "4                       0                     0                0   \n",
       "\n",
       "   room_type_Studio  room_type_TwinStudio  \n",
       "0                 0                     0  \n",
       "1                 0                     0  \n",
       "2                 0                     0  \n",
       "3                 0                     0  \n",
       "4                 1                     0  \n",
       "\n",
       "[5 rows x 39 columns]"
      ]
     },
     "execution_count": 53,
     "metadata": {},
     "output_type": "execute_result"
    }
   ],
   "source": [
    "x = df.drop(['status'],axis=1)\n",
    "x.head()"
   ]
  },
  {
   "cell_type": "code",
   "execution_count": 54,
   "id": "c7fedf3a",
   "metadata": {},
   "outputs": [
    {
     "data": {
      "text/plain": [
       "0    0\n",
       "1    0\n",
       "2    0\n",
       "3    0\n",
       "4    0\n",
       "Name: status, dtype: int64"
      ]
     },
     "execution_count": 54,
     "metadata": {},
     "output_type": "execute_result"
    }
   ],
   "source": [
    "y = df['status']\n",
    "y.head()"
   ]
  },
  {
   "cell_type": "code",
   "execution_count": 55,
   "id": "a7ec771d",
   "metadata": {},
   "outputs": [],
   "source": [
    "from sklearn.model_selection import train_test_split\n",
    "x_train,x_test,y_train,y_test = train_test_split(x,y,test_size=0.2,random_state=42)"
   ]
  },
  {
   "cell_type": "markdown",
   "id": "8fb3769c",
   "metadata": {},
   "source": [
    "# Model Building"
   ]
  },
  {
   "cell_type": "code",
   "execution_count": 56,
   "id": "bb94b8b0",
   "metadata": {},
   "outputs": [
    {
     "name": "stdout",
     "output_type": "stream",
     "text": [
      "Epoch 1/3\n",
      "825/825 [==============================] - 4s 4ms/step - loss: 0.0339 - accuracy: 0.9911\n",
      "Epoch 2/3\n",
      "825/825 [==============================] - 3s 4ms/step - loss: 6.4787e-05 - accuracy: 1.0000\n",
      "Epoch 3/3\n",
      "825/825 [==============================] - 3s 4ms/step - loss: 1.6950e-05 - accuracy: 1.0000\n"
     ]
    },
    {
     "data": {
      "text/plain": [
       "<keras.callbacks.History at 0x22b7506d4e0>"
      ]
     },
     "execution_count": 56,
     "metadata": {},
     "output_type": "execute_result"
    }
   ],
   "source": [
    "import tensorflow as tf\n",
    "\n",
    "model = tf.keras.models.Sequential([\n",
    "    tf.keras.layers.Dense(units=64, activation='relu'),\n",
    "    tf.keras.layers.Dense(units=32, activation='relu'),\n",
    "    tf.keras.layers.Dense(units=1, activation='sigmoid')\n",
    "])\n",
    "model.compile(optimizer='adam', loss='binary_crossentropy', metrics=['accuracy'])\n",
    "\n",
    "model.fit(x_train, y_train, batch_size=32, epochs=3)"
   ]
  },
  {
   "cell_type": "markdown",
   "id": "3da4fb61",
   "metadata": {},
   "source": [
    "# Model Testing"
   ]
  },
  {
   "cell_type": "code",
   "execution_count": 57,
   "id": "2109e47d",
   "metadata": {
    "scrolled": true
   },
   "outputs": [
    {
     "name": "stdout",
     "output_type": "stream",
     "text": [
      "207/207 - 1s - loss: 1.1717e-05 - accuracy: 1.0000 - 592ms/epoch - 3ms/step\n",
      "Test accuracy: 1.0\n"
     ]
    }
   ],
   "source": [
    "test_loss, test_acc = model.evaluate(x_test, y_test, verbose=2)\n",
    "print('Test accuracy:', test_acc)"
   ]
  },
  {
   "cell_type": "code",
   "execution_count": 81,
   "id": "d3876e9e",
   "metadata": {},
   "outputs": [
    {
     "name": "stdout",
     "output_type": "stream",
     "text": [
      "207/207 [==============================] - 1s 2ms/step\n"
     ]
    },
    {
     "data": {
      "text/plain": [
       "array([[1.4593011e-04],\n",
       "       [9.9995598e+01],\n",
       "       [1.4593027e-04],\n",
       "       [9.9979408e+01],\n",
       "       [1.4592998e-04],\n",
       "       [5.7429355e-04],\n",
       "       [3.5345725e-05],\n",
       "       [3.5212288e-05],\n",
       "       [2.2317029e-03],\n",
       "       [4.6189726e-04]], dtype=float32)"
      ]
     },
     "execution_count": 81,
     "metadata": {},
     "output_type": "execute_result"
    }
   ],
   "source": [
    "y_pred = model.predict(x_test)\n",
    "y_pred *=100\n",
    "y_pred[:10]"
   ]
  },
  {
   "cell_type": "markdown",
   "id": "b840d148",
   "metadata": {},
   "source": [
    "# Calculating Lead Score"
   ]
  },
  {
   "cell_type": "code",
   "execution_count": 82,
   "id": "38a7bf07",
   "metadata": {},
   "outputs": [
    {
     "data": {
      "text/plain": [
       "array([  0.  , 100.  ,   0.  ,  99.98,   0.  ,   0.  ,   0.  ,   0.  ,\n",
       "         0.  ,   0.  ], dtype=float32)"
      ]
     },
     "execution_count": 82,
     "metadata": {},
     "output_type": "execute_result"
    }
   ],
   "source": [
    "import numpy as np\n",
    "\n",
    "y_pred = np.squeeze(y_pred)\n",
    "y_pred = np.clip(y_pred, 0, 100)\n",
    "y_pred = np.round(y_pred, 2)\n",
    "y_pred[:10]"
   ]
  },
  {
   "cell_type": "code",
   "execution_count": 83,
   "id": "3d353af6",
   "metadata": {},
   "outputs": [],
   "source": [
    "predicted_status = []\n",
    "for score in y_pred:\n",
    "    if score >= 50:\n",
    "        predicted_status.append('WON')\n",
    "    else:\n",
    "        predicted_status.append('LOST')"
   ]
  },
  {
   "cell_type": "code",
   "execution_count": 84,
   "id": "1d804478",
   "metadata": {},
   "outputs": [
    {
     "data": {
      "text/plain": [
       "['LOST', 'WON', 'LOST', 'WON', 'LOST', 'LOST', 'LOST', 'LOST', 'LOST', 'LOST']"
      ]
     },
     "execution_count": 84,
     "metadata": {},
     "output_type": "execute_result"
    }
   ],
   "source": [
    "predicted_status[:10]"
   ]
  },
  {
   "cell_type": "markdown",
   "id": "dd8c1e03",
   "metadata": {},
   "source": [
    "# Model Evaluation"
   ]
  },
  {
   "cell_type": "code",
   "execution_count": 63,
   "id": "295d0cfa",
   "metadata": {},
   "outputs": [
    {
     "name": "stdout",
     "output_type": "stream",
     "text": [
      "              precision    recall  f1-score   support\n",
      "\n",
      "           0       1.00      1.00      1.00      6056\n",
      "           1       1.00      1.00      1.00       541\n",
      "\n",
      "    accuracy                           1.00      6597\n",
      "   macro avg       1.00      1.00      1.00      6597\n",
      "weighted avg       1.00      1.00      1.00      6597\n",
      "\n"
     ]
    }
   ],
   "source": [
    "from sklearn.metrics import confusion_matrix , classification_report\n",
    "\n",
    "print(classification_report(y_test,yp))"
   ]
  },
  {
   "cell_type": "code",
   "execution_count": 64,
   "id": "0aa1270a",
   "metadata": {},
   "outputs": [
    {
     "data": {
      "text/plain": [
       "Text(95.72222222222221, 0.5, 'Truth')"
      ]
     },
     "execution_count": 64,
     "metadata": {},
     "output_type": "execute_result"
    },
    {
     "data": {
      "image/png": "[encoded data removed]",
      "text/plain": [
       "<Figure size 1000x700 with 2 Axes>"
      ]
     },
     "metadata": {},
     "output_type": "display_data"
    }
   ],
   "source": [
    "com = tf.math.confusion_matrix(labels=y_test,predictions=yp)\n",
    "\n",
    "plt.figure(figsize = (10,7))\n",
    "sns.heatmap(com, annot=True, fmt='d')\n",
    "plt.xlabel('Predicted')\n",
    "plt.ylabel('Truth')"
   ]
  },
  {
   "cell_type": "code",
   "execution_count": 65,
   "id": "04ca03a8",
   "metadata": {},
   "outputs": [
    {
     "name": "stdout",
     "output_type": "stream",
     "text": [
      "Accuracy: 1.0\n"
     ]
    }
   ],
   "source": [
    "from sklearn.metrics import accuracy_score, precision_score, recall_score, f1_score\n",
    "\n",
    "# Calculate accuracy\n",
    "accuracy = accuracy_score(y_test, yp)\n",
    "print('Accuracy:', accuracy)"
   ]
  },
  {
   "cell_type": "code",
   "execution_count": 66,
   "id": "afd86a1b",
   "metadata": {},
   "outputs": [
    {
     "name": "stdout",
     "output_type": "stream",
     "text": [
      "Precision: 1.0\n"
     ]
    }
   ],
   "source": [
    "# Calculate precision\n",
    "precision = precision_score(y_test, yp, pos_label=1) #pos_label=1 means WON\n",
    "print('Precision:', precision)"
   ]
  },
  {
   "cell_type": "code",
   "execution_count": 67,
   "id": "6d9ed77b",
   "metadata": {},
   "outputs": [
    {
     "name": "stdout",
     "output_type": "stream",
     "text": [
      "Recall: 1.0\n"
     ]
    }
   ],
   "source": [
    "# Calculate recall\n",
    "recall = recall_score(y_test, yp, pos_label=1) #pos_label=1 means WON\n",
    "print('Recall:', recall)"
   ]
  },
  {
   "cell_type": "code",
   "execution_count": 68,
   "id": "32fe5fba",
   "metadata": {},
   "outputs": [
    {
     "name": "stdout",
     "output_type": "stream",
     "text": [
      "F1-score: 1.0\n"
     ]
    }
   ],
   "source": [
    "# Calculate F1-score\n",
    "f1 = f1_score(y_test, yp, pos_label=1) #pos_label=1 means WON\n",
    "print('F1-score:', f1)"
   ]
  },
  {
   "cell_type": "markdown",
   "id": "c7c3fa89",
   "metadata": {},
   "source": [
    "# Save Model"
   ]
  },
  {
   "cell_type": "code",
   "execution_count": 69,
   "id": "fca296a8",
   "metadata": {},
   "outputs": [
    {
     "name": "stdout",
     "output_type": "stream",
     "text": [
      "INFO:tensorflow:Assets written to: model\\assets\n"
     ]
    }
   ],
   "source": [
    "model.save('model')"
   ]
  }
 ],
 "metadata": {
  "kernelspec": {
   "display_name": "Python 3 (ipykernel)",
   "language": "python",
   "name": "python3"
  },
  "language_info": {
   "codemirror_mode": {
    "name": "ipython",
    "version": 3
   },
   "file_extension": ".py",
   "mimetype": "text/x-python",
   "name": "python",
   "nbconvert_exporter": "python",
   "pygments_lexer": "ipython3",
   "version": "3.10.8"
  }
 },
 "nbformat": 4,
 "nbformat_minor": 5
}
